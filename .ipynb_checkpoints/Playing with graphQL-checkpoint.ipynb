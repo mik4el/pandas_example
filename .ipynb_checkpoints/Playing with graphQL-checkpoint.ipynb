{
 "cells": [
  {
   "cell_type": "markdown",
   "metadata": {},
   "source": [
    "# Setting up"
   ]
  },
  {
   "cell_type": "code",
   "execution_count": 1,
   "metadata": {},
   "outputs": [
    {
     "data": {
      "text/plain": [
       "True"
      ]
     },
     "execution_count": 1,
     "metadata": {},
     "output_type": "execute_result"
    }
   ],
   "source": [
    "from dotenv import load_dotenv\n",
    "load_dotenv()"
   ]
  },
  {
   "cell_type": "code",
   "execution_count": 2,
   "metadata": {},
   "outputs": [],
   "source": [
    "import os\n",
    "GITHUB_KEY = os.getenv(\"GITHUB_KEY\")"
   ]
  },
  {
   "cell_type": "markdown",
   "metadata": {},
   "source": [
    "# Getting data from Github"
   ]
  },
  {
   "cell_type": "code",
   "execution_count": 3,
   "metadata": {},
   "outputs": [
    {
     "name": "stdout",
     "output_type": "stream",
     "text": [
      "{'data': {'user': {'repositories': {'nodes': [{'name': 'Hello-World', 'createdAt': '2011-11-14T22:56:50Z'}, {'name': 'collectably-backend', 'createdAt': '2013-05-20T10:22:39Z'}, {'name': 'collectably-angular', 'createdAt': '2013-05-20T10:32:39Z'}, {'name': 'gadget-pi-tower-lamp', 'createdAt': '2014-06-13T19:34:53Z'}, {'name': 'mikael_och_maria_se', 'createdAt': '2014-06-13T19:45:05Z'}, {'name': 'wordpress_bootstrap_se_fabric', 'createdAt': '2014-06-14T10:12:47Z'}, {'name': 'next_bus_ekensberg', 'createdAt': '2015-02-07T20:50:31Z'}, {'name': 'reg_ferm', 'createdAt': '2015-04-30T09:25:38Z'}, {'name': 'gadget-circadian-hallway', 'createdAt': '2015-08-30T14:04:09Z'}, {'name': 'rufs', 'createdAt': '2015-12-06T08:57:51Z'}, {'name': 'thinkster-django-angular-boilerplate', 'createdAt': '2016-04-29T12:49:57Z'}, {'name': 'angular2_test', 'createdAt': '2016-05-03T08:08:26Z'}, {'name': 'dockerizing-django', 'createdAt': '2016-05-12T08:32:51Z'}, {'name': 'gadget-board', 'createdAt': '2016-05-17T08:10:29Z'}, {'name': 'gadget-ekensberg-swim-thermo', 'createdAt': '2016-07-06T18:16:32Z'}, {'name': 'gadget-remote-repeat', 'createdAt': '2016-08-16T06:31:32Z'}, {'name': 'gadget-ekensberg-flight-radar', 'createdAt': '2016-08-24T14:17:32Z'}, {'name': 'trying-ng-cli', 'createdAt': '2016-09-14T17:52:25Z'}, {'name': 'gadget-im-still-here', 'createdAt': '2016-09-26T06:49:29Z'}, {'name': 'pi-blaster', 'createdAt': '2016-10-18T20:16:19Z'}, {'name': 'pdiffer', 'createdAt': '2016-10-24T06:38:23Z'}, {'name': 'create-react-app', 'createdAt': '2016-10-25T09:15:43Z'}, {'name': 'react-test-bed', 'createdAt': '2016-10-25T12:40:51Z'}, {'name': 'gadget-speed-radar', 'createdAt': '2016-11-14T16:40:56Z'}, {'name': 'testing-cc1350', 'createdAt': '2017-01-06T13:21:58Z'}, {'name': 'gadget-eddystone-scanner', 'createdAt': '2017-01-08T19:49:59Z'}, {'name': 'cc1350-swim-thermo', 'createdAt': '2017-03-05T13:18:34Z'}, {'name': 'lmt70-mini-pcb', 'createdAt': '2017-03-31T17:49:12Z'}, {'name': 'ws2812b-test', 'createdAt': '2017-04-12T20:14:42Z'}, {'name': 'MultiMarkdown', 'createdAt': '2017-04-21T12:53:31Z'}, {'name': 'bash-network-repair-automation', 'createdAt': '2017-08-26T19:46:07Z'}, {'name': 'BuildingYourFirstARExperience', 'createdAt': '2017-12-11T13:10:21Z'}, {'name': 'qspectrumanalyzer', 'createdAt': '2018-05-30T07:52:06Z'}, {'name': 'cc1352-swim-thermo', 'createdAt': '2018-08-17T10:58:12Z'}, {'name': 'testing-cc1352', 'createdAt': '2018-08-27T11:42:04Z'}, {'name': 'mik4el.github.io', 'createdAt': '2018-11-29T13:31:13Z'}, {'name': 'pandas_example', 'createdAt': '2019-09-19T07:38:56Z'}]}}}}\n",
      "[{'name': 'Hello-World', 'createdAt': '2011-11-14T22:56:50Z'}, {'name': 'collectably-backend', 'createdAt': '2013-05-20T10:22:39Z'}, {'name': 'collectably-angular', 'createdAt': '2013-05-20T10:32:39Z'}, {'name': 'gadget-pi-tower-lamp', 'createdAt': '2014-06-13T19:34:53Z'}, {'name': 'mikael_och_maria_se', 'createdAt': '2014-06-13T19:45:05Z'}, {'name': 'wordpress_bootstrap_se_fabric', 'createdAt': '2014-06-14T10:12:47Z'}, {'name': 'next_bus_ekensberg', 'createdAt': '2015-02-07T20:50:31Z'}, {'name': 'reg_ferm', 'createdAt': '2015-04-30T09:25:38Z'}, {'name': 'gadget-circadian-hallway', 'createdAt': '2015-08-30T14:04:09Z'}, {'name': 'rufs', 'createdAt': '2015-12-06T08:57:51Z'}, {'name': 'thinkster-django-angular-boilerplate', 'createdAt': '2016-04-29T12:49:57Z'}, {'name': 'angular2_test', 'createdAt': '2016-05-03T08:08:26Z'}, {'name': 'dockerizing-django', 'createdAt': '2016-05-12T08:32:51Z'}, {'name': 'gadget-board', 'createdAt': '2016-05-17T08:10:29Z'}, {'name': 'gadget-ekensberg-swim-thermo', 'createdAt': '2016-07-06T18:16:32Z'}, {'name': 'gadget-remote-repeat', 'createdAt': '2016-08-16T06:31:32Z'}, {'name': 'gadget-ekensberg-flight-radar', 'createdAt': '2016-08-24T14:17:32Z'}, {'name': 'trying-ng-cli', 'createdAt': '2016-09-14T17:52:25Z'}, {'name': 'gadget-im-still-here', 'createdAt': '2016-09-26T06:49:29Z'}, {'name': 'pi-blaster', 'createdAt': '2016-10-18T20:16:19Z'}, {'name': 'pdiffer', 'createdAt': '2016-10-24T06:38:23Z'}, {'name': 'create-react-app', 'createdAt': '2016-10-25T09:15:43Z'}, {'name': 'react-test-bed', 'createdAt': '2016-10-25T12:40:51Z'}, {'name': 'gadget-speed-radar', 'createdAt': '2016-11-14T16:40:56Z'}, {'name': 'testing-cc1350', 'createdAt': '2017-01-06T13:21:58Z'}, {'name': 'gadget-eddystone-scanner', 'createdAt': '2017-01-08T19:49:59Z'}, {'name': 'cc1350-swim-thermo', 'createdAt': '2017-03-05T13:18:34Z'}, {'name': 'lmt70-mini-pcb', 'createdAt': '2017-03-31T17:49:12Z'}, {'name': 'ws2812b-test', 'createdAt': '2017-04-12T20:14:42Z'}, {'name': 'MultiMarkdown', 'createdAt': '2017-04-21T12:53:31Z'}, {'name': 'bash-network-repair-automation', 'createdAt': '2017-08-26T19:46:07Z'}, {'name': 'BuildingYourFirstARExperience', 'createdAt': '2017-12-11T13:10:21Z'}, {'name': 'qspectrumanalyzer', 'createdAt': '2018-05-30T07:52:06Z'}, {'name': 'cc1352-swim-thermo', 'createdAt': '2018-08-17T10:58:12Z'}, {'name': 'testing-cc1352', 'createdAt': '2018-08-27T11:42:04Z'}, {'name': 'mik4el.github.io', 'createdAt': '2018-11-29T13:31:13Z'}, {'name': 'pandas_example', 'createdAt': '2019-09-19T07:38:56Z'}]\n"
     ]
    }
   ],
   "source": [
    "import requests\n",
    "\n",
    "def run_query(query): # A simple function to use requests.post to make the API call. Note the json= section.\n",
    "    request = requests.post('https://api.github.com/graphql', json={'query': query}, headers=headers)\n",
    "    if request.status_code == 200:\n",
    "        return request.json()\n",
    "    else:\n",
    "        raise Exception(\"Query failed to run by returning code of {}. {}\".format(request.status_code, query))\n",
    "\n",
    "headers = {\"Authorization\": \"Bearer \"+ GITHUB_KEY}\n",
    "query = \"\"\"\n",
    "{\n",
    "  user(login: \"mik4el\") {\n",
    "    repositories(first: 100) {\n",
    "      nodes {\n",
    "        name\n",
    "        createdAt\n",
    "      }\n",
    "    }\n",
    "  }\n",
    "}\n",
    "\"\"\"        \n",
    "\n",
    "result = run_query(query)\n",
    "print(result)"
   ]
  },
  {
   "cell_type": "markdown",
   "metadata": {},
   "source": [
    "# Importing to Pandas and plotting"
   ]
  },
  {
   "cell_type": "code",
   "execution_count": 4,
   "metadata": {},
   "outputs": [
    {
     "data": {
      "text/plain": [
       "name         object\n",
       "createdAt    object\n",
       "dtype: object"
      ]
     },
     "execution_count": 4,
     "metadata": {},
     "output_type": "execute_result"
    }
   ],
   "source": [
    "import pandas as pd\n",
    "df = pd.DataFrame.from_dict(result[\"data\"][\"user\"][\"repositories\"][\"nodes\"])\n",
    "df.dtypes"
   ]
  },
  {
   "cell_type": "code",
   "execution_count": 5,
   "metadata": {},
   "outputs": [],
   "source": [
    "df[\"createdAt\"] = (pd.to_datetime(df.createdAt, infer_datetime_format=True))"
   ]
  },
  {
   "cell_type": "code",
   "execution_count": 6,
   "metadata": {},
   "outputs": [
    {
     "data": {
      "text/plain": [
       "name                 object\n",
       "createdAt    datetime64[ns]\n",
       "dtype: object"
      ]
     },
     "execution_count": 6,
     "metadata": {},
     "output_type": "execute_result"
    }
   ],
   "source": [
    "df.dtypes"
   ]
  },
  {
   "cell_type": "code",
   "execution_count": 7,
   "metadata": {},
   "outputs": [
    {
     "data": {
      "text/html": [
       "<div>\n",
       "<style scoped>\n",
       "    .dataframe tbody tr th:only-of-type {\n",
       "        vertical-align: middle;\n",
       "    }\n",
       "\n",
       "    .dataframe tbody tr th {\n",
       "        vertical-align: top;\n",
       "    }\n",
       "\n",
       "    .dataframe thead th {\n",
       "        text-align: right;\n",
       "    }\n",
       "</style>\n",
       "<table border=\"1\" class=\"dataframe\">\n",
       "  <thead>\n",
       "    <tr style=\"text-align: right;\">\n",
       "      <th></th>\n",
       "      <th>name</th>\n",
       "      <th>createdAt</th>\n",
       "    </tr>\n",
       "  </thead>\n",
       "  <tbody>\n",
       "    <tr>\n",
       "      <td>0</td>\n",
       "      <td>Hello-World</td>\n",
       "      <td>2011-11-14 22:56:50</td>\n",
       "    </tr>\n",
       "    <tr>\n",
       "      <td>1</td>\n",
       "      <td>collectably-backend</td>\n",
       "      <td>2013-05-20 10:22:39</td>\n",
       "    </tr>\n",
       "    <tr>\n",
       "      <td>2</td>\n",
       "      <td>collectably-angular</td>\n",
       "      <td>2013-05-20 10:32:39</td>\n",
       "    </tr>\n",
       "    <tr>\n",
       "      <td>3</td>\n",
       "      <td>gadget-pi-tower-lamp</td>\n",
       "      <td>2014-06-13 19:34:53</td>\n",
       "    </tr>\n",
       "    <tr>\n",
       "      <td>4</td>\n",
       "      <td>mikael_och_maria_se</td>\n",
       "      <td>2014-06-13 19:45:05</td>\n",
       "    </tr>\n",
       "    <tr>\n",
       "      <td>5</td>\n",
       "      <td>wordpress_bootstrap_se_fabric</td>\n",
       "      <td>2014-06-14 10:12:47</td>\n",
       "    </tr>\n",
       "    <tr>\n",
       "      <td>6</td>\n",
       "      <td>next_bus_ekensberg</td>\n",
       "      <td>2015-02-07 20:50:31</td>\n",
       "    </tr>\n",
       "    <tr>\n",
       "      <td>7</td>\n",
       "      <td>reg_ferm</td>\n",
       "      <td>2015-04-30 09:25:38</td>\n",
       "    </tr>\n",
       "    <tr>\n",
       "      <td>8</td>\n",
       "      <td>gadget-circadian-hallway</td>\n",
       "      <td>2015-08-30 14:04:09</td>\n",
       "    </tr>\n",
       "    <tr>\n",
       "      <td>9</td>\n",
       "      <td>rufs</td>\n",
       "      <td>2015-12-06 08:57:51</td>\n",
       "    </tr>\n",
       "    <tr>\n",
       "      <td>10</td>\n",
       "      <td>thinkster-django-angular-boilerplate</td>\n",
       "      <td>2016-04-29 12:49:57</td>\n",
       "    </tr>\n",
       "    <tr>\n",
       "      <td>11</td>\n",
       "      <td>angular2_test</td>\n",
       "      <td>2016-05-03 08:08:26</td>\n",
       "    </tr>\n",
       "    <tr>\n",
       "      <td>12</td>\n",
       "      <td>dockerizing-django</td>\n",
       "      <td>2016-05-12 08:32:51</td>\n",
       "    </tr>\n",
       "    <tr>\n",
       "      <td>13</td>\n",
       "      <td>gadget-board</td>\n",
       "      <td>2016-05-17 08:10:29</td>\n",
       "    </tr>\n",
       "    <tr>\n",
       "      <td>14</td>\n",
       "      <td>gadget-ekensberg-swim-thermo</td>\n",
       "      <td>2016-07-06 18:16:32</td>\n",
       "    </tr>\n",
       "    <tr>\n",
       "      <td>15</td>\n",
       "      <td>gadget-remote-repeat</td>\n",
       "      <td>2016-08-16 06:31:32</td>\n",
       "    </tr>\n",
       "    <tr>\n",
       "      <td>16</td>\n",
       "      <td>gadget-ekensberg-flight-radar</td>\n",
       "      <td>2016-08-24 14:17:32</td>\n",
       "    </tr>\n",
       "    <tr>\n",
       "      <td>17</td>\n",
       "      <td>trying-ng-cli</td>\n",
       "      <td>2016-09-14 17:52:25</td>\n",
       "    </tr>\n",
       "    <tr>\n",
       "      <td>18</td>\n",
       "      <td>gadget-im-still-here</td>\n",
       "      <td>2016-09-26 06:49:29</td>\n",
       "    </tr>\n",
       "    <tr>\n",
       "      <td>19</td>\n",
       "      <td>pi-blaster</td>\n",
       "      <td>2016-10-18 20:16:19</td>\n",
       "    </tr>\n",
       "    <tr>\n",
       "      <td>20</td>\n",
       "      <td>pdiffer</td>\n",
       "      <td>2016-10-24 06:38:23</td>\n",
       "    </tr>\n",
       "    <tr>\n",
       "      <td>21</td>\n",
       "      <td>create-react-app</td>\n",
       "      <td>2016-10-25 09:15:43</td>\n",
       "    </tr>\n",
       "    <tr>\n",
       "      <td>22</td>\n",
       "      <td>react-test-bed</td>\n",
       "      <td>2016-10-25 12:40:51</td>\n",
       "    </tr>\n",
       "    <tr>\n",
       "      <td>23</td>\n",
       "      <td>gadget-speed-radar</td>\n",
       "      <td>2016-11-14 16:40:56</td>\n",
       "    </tr>\n",
       "    <tr>\n",
       "      <td>24</td>\n",
       "      <td>testing-cc1350</td>\n",
       "      <td>2017-01-06 13:21:58</td>\n",
       "    </tr>\n",
       "    <tr>\n",
       "      <td>25</td>\n",
       "      <td>gadget-eddystone-scanner</td>\n",
       "      <td>2017-01-08 19:49:59</td>\n",
       "    </tr>\n",
       "    <tr>\n",
       "      <td>26</td>\n",
       "      <td>cc1350-swim-thermo</td>\n",
       "      <td>2017-03-05 13:18:34</td>\n",
       "    </tr>\n",
       "    <tr>\n",
       "      <td>27</td>\n",
       "      <td>lmt70-mini-pcb</td>\n",
       "      <td>2017-03-31 17:49:12</td>\n",
       "    </tr>\n",
       "    <tr>\n",
       "      <td>28</td>\n",
       "      <td>ws2812b-test</td>\n",
       "      <td>2017-04-12 20:14:42</td>\n",
       "    </tr>\n",
       "    <tr>\n",
       "      <td>29</td>\n",
       "      <td>MultiMarkdown</td>\n",
       "      <td>2017-04-21 12:53:31</td>\n",
       "    </tr>\n",
       "    <tr>\n",
       "      <td>30</td>\n",
       "      <td>bash-network-repair-automation</td>\n",
       "      <td>2017-08-26 19:46:07</td>\n",
       "    </tr>\n",
       "    <tr>\n",
       "      <td>31</td>\n",
       "      <td>BuildingYourFirstARExperience</td>\n",
       "      <td>2017-12-11 13:10:21</td>\n",
       "    </tr>\n",
       "    <tr>\n",
       "      <td>32</td>\n",
       "      <td>qspectrumanalyzer</td>\n",
       "      <td>2018-05-30 07:52:06</td>\n",
       "    </tr>\n",
       "    <tr>\n",
       "      <td>33</td>\n",
       "      <td>cc1352-swim-thermo</td>\n",
       "      <td>2018-08-17 10:58:12</td>\n",
       "    </tr>\n",
       "    <tr>\n",
       "      <td>34</td>\n",
       "      <td>testing-cc1352</td>\n",
       "      <td>2018-08-27 11:42:04</td>\n",
       "    </tr>\n",
       "    <tr>\n",
       "      <td>35</td>\n",
       "      <td>mik4el.github.io</td>\n",
       "      <td>2018-11-29 13:31:13</td>\n",
       "    </tr>\n",
       "    <tr>\n",
       "      <td>36</td>\n",
       "      <td>pandas_example</td>\n",
       "      <td>2019-09-19 07:38:56</td>\n",
       "    </tr>\n",
       "  </tbody>\n",
       "</table>\n",
       "</div>"
      ],
      "text/plain": [
       "                                    name           createdAt\n",
       "0                            Hello-World 2011-11-14 22:56:50\n",
       "1                    collectably-backend 2013-05-20 10:22:39\n",
       "2                    collectably-angular 2013-05-20 10:32:39\n",
       "3                   gadget-pi-tower-lamp 2014-06-13 19:34:53\n",
       "4                    mikael_och_maria_se 2014-06-13 19:45:05\n",
       "5          wordpress_bootstrap_se_fabric 2014-06-14 10:12:47\n",
       "6                     next_bus_ekensberg 2015-02-07 20:50:31\n",
       "7                               reg_ferm 2015-04-30 09:25:38\n",
       "8               gadget-circadian-hallway 2015-08-30 14:04:09\n",
       "9                                   rufs 2015-12-06 08:57:51\n",
       "10  thinkster-django-angular-boilerplate 2016-04-29 12:49:57\n",
       "11                         angular2_test 2016-05-03 08:08:26\n",
       "12                    dockerizing-django 2016-05-12 08:32:51\n",
       "13                          gadget-board 2016-05-17 08:10:29\n",
       "14          gadget-ekensberg-swim-thermo 2016-07-06 18:16:32\n",
       "15                  gadget-remote-repeat 2016-08-16 06:31:32\n",
       "16         gadget-ekensberg-flight-radar 2016-08-24 14:17:32\n",
       "17                         trying-ng-cli 2016-09-14 17:52:25\n",
       "18                  gadget-im-still-here 2016-09-26 06:49:29\n",
       "19                            pi-blaster 2016-10-18 20:16:19\n",
       "20                               pdiffer 2016-10-24 06:38:23\n",
       "21                      create-react-app 2016-10-25 09:15:43\n",
       "22                        react-test-bed 2016-10-25 12:40:51\n",
       "23                    gadget-speed-radar 2016-11-14 16:40:56\n",
       "24                        testing-cc1350 2017-01-06 13:21:58\n",
       "25              gadget-eddystone-scanner 2017-01-08 19:49:59\n",
       "26                    cc1350-swim-thermo 2017-03-05 13:18:34\n",
       "27                        lmt70-mini-pcb 2017-03-31 17:49:12\n",
       "28                          ws2812b-test 2017-04-12 20:14:42\n",
       "29                         MultiMarkdown 2017-04-21 12:53:31\n",
       "30        bash-network-repair-automation 2017-08-26 19:46:07\n",
       "31         BuildingYourFirstARExperience 2017-12-11 13:10:21\n",
       "32                     qspectrumanalyzer 2018-05-30 07:52:06\n",
       "33                    cc1352-swim-thermo 2018-08-17 10:58:12\n",
       "34                        testing-cc1352 2018-08-27 11:42:04\n",
       "35                      mik4el.github.io 2018-11-29 13:31:13\n",
       "36                        pandas_example 2019-09-19 07:38:56"
      ]
     },
     "execution_count": 7,
     "metadata": {},
     "output_type": "execute_result"
    }
   ],
   "source": [
    "df"
   ]
  },
  {
   "cell_type": "code",
   "execution_count": 8,
   "metadata": {},
   "outputs": [
    {
     "data": {
      "text/plain": [
       "<matplotlib.axes._subplots.AxesSubplot at 0x11535dd90>"
      ]
     },
     "execution_count": 8,
     "metadata": {},
     "output_type": "execute_result"
    }
   ],
   "source": [
    "from matplotlib import pyplot as plt\n",
    "df.plot()"
   ]
  },
  {
   "cell_type": "code",
   "execution_count": 9,
   "metadata": {},
   "outputs": [],
   "source": [
    "df[\"total_repos\"] = df.index"
   ]
  },
  {
   "cell_type": "code",
   "execution_count": 10,
   "metadata": {},
   "outputs": [
    {
     "name": "stdout",
     "output_type": "stream",
     "text": [
      "                                    name           createdAt  total_repos\n",
      "0                            Hello-World 2011-11-14 22:56:50            0\n",
      "1                    collectably-backend 2013-05-20 10:22:39            1\n",
      "2                    collectably-angular 2013-05-20 10:32:39            2\n",
      "3                   gadget-pi-tower-lamp 2014-06-13 19:34:53            3\n",
      "4                    mikael_och_maria_se 2014-06-13 19:45:05            4\n",
      "5          wordpress_bootstrap_se_fabric 2014-06-14 10:12:47            5\n",
      "6                     next_bus_ekensberg 2015-02-07 20:50:31            6\n",
      "7                               reg_ferm 2015-04-30 09:25:38            7\n",
      "8               gadget-circadian-hallway 2015-08-30 14:04:09            8\n",
      "9                                   rufs 2015-12-06 08:57:51            9\n",
      "10  thinkster-django-angular-boilerplate 2016-04-29 12:49:57           10\n",
      "11                         angular2_test 2016-05-03 08:08:26           11\n",
      "12                    dockerizing-django 2016-05-12 08:32:51           12\n",
      "13                          gadget-board 2016-05-17 08:10:29           13\n",
      "14          gadget-ekensberg-swim-thermo 2016-07-06 18:16:32           14\n",
      "15                  gadget-remote-repeat 2016-08-16 06:31:32           15\n",
      "16         gadget-ekensberg-flight-radar 2016-08-24 14:17:32           16\n",
      "17                         trying-ng-cli 2016-09-14 17:52:25           17\n",
      "18                  gadget-im-still-here 2016-09-26 06:49:29           18\n",
      "19                            pi-blaster 2016-10-18 20:16:19           19\n",
      "20                               pdiffer 2016-10-24 06:38:23           20\n",
      "21                      create-react-app 2016-10-25 09:15:43           21\n",
      "22                        react-test-bed 2016-10-25 12:40:51           22\n",
      "23                    gadget-speed-radar 2016-11-14 16:40:56           23\n",
      "24                        testing-cc1350 2017-01-06 13:21:58           24\n",
      "25              gadget-eddystone-scanner 2017-01-08 19:49:59           25\n",
      "26                    cc1350-swim-thermo 2017-03-05 13:18:34           26\n",
      "27                        lmt70-mini-pcb 2017-03-31 17:49:12           27\n",
      "28                          ws2812b-test 2017-04-12 20:14:42           28\n",
      "29                         MultiMarkdown 2017-04-21 12:53:31           29\n",
      "30        bash-network-repair-automation 2017-08-26 19:46:07           30\n",
      "31         BuildingYourFirstARExperience 2017-12-11 13:10:21           31\n",
      "32                     qspectrumanalyzer 2018-05-30 07:52:06           32\n",
      "33                    cc1352-swim-thermo 2018-08-17 10:58:12           33\n",
      "34                        testing-cc1352 2018-08-27 11:42:04           34\n",
      "35                      mik4el.github.io 2018-11-29 13:31:13           35\n",
      "36                        pandas_example 2019-09-19 07:38:56           36\n"
     ]
    }
   ],
   "source": [
    "print(df)"
   ]
  },
  {
   "cell_type": "code",
   "execution_count": 11,
   "metadata": {},
   "outputs": [
    {
     "data": {
      "text/plain": [
       "<matplotlib.axes._subplots.AxesSubplot at 0x1174e0cd0>"
      ]
     },
     "execution_count": 11,
     "metadata": {},
     "output_type": "execute_result"
    },
    {
     "data": {
      "image/png": "[encoded data removed]",
      "text/plain": [
       "<Figure size 432x288 with 1 Axes>"
      ]
     },
     "metadata": {
      "needs_background": "light"
     },
     "output_type": "display_data"
    }
   ],
   "source": [
    "df.plot(x=\"createdAt\", y=\"total_repos\")"
   ]
  },
  {
   "cell_type": "code",
   "execution_count": null,
   "metadata": {},
   "outputs": [],
   "source": []
  },
  {
   "cell_type": "code",
   "execution_count": null,
   "metadata": {},
   "outputs": [],
   "source": []
  }
 ],
 "metadata": {
  "kernelspec": {
   "display_name": "Python 3",
   "language": "python",
   "name": "python3"
  },
  "language_info": {
   "codemirror_mode": {
    "name": "ipython",
    "version": 3
   },
   "file_extension": ".py",
   "mimetype": "text/x-python",
   "name": "python",
   "nbconvert_exporter": "python",
   "pygments_lexer": "ipython3",
   "version": "3.7.4"
  }
 },
 "nbformat": 4,
 "nbformat_minor": 2
}
