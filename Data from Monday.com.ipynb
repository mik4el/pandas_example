{
 "cells": [
  {
   "cell_type": "markdown",
   "metadata": {},
   "source": [
    "# Setting up"
   ]
  },
  {
   "cell_type": "code",
   "execution_count": 1,
   "metadata": {},
   "outputs": [
    {
     "data": {
      "text/plain": [
       "True"
      ]
     },
     "execution_count": 1,
     "metadata": {},
     "output_type": "execute_result"
    }
   ],
   "source": [
    "from dotenv import load_dotenv\n",
    "load_dotenv()"
   ]
  },
  {
   "cell_type": "code",
   "execution_count": 2,
   "metadata": {},
   "outputs": [],
   "source": [
    "import os\n",
    "MONDAY_KEY = os.getenv(\"MONDAY_KEY\")\n",
    "import requests\n",
    "\n",
    "def run_query(query): # A simple function to use requests.post to make the API call. Note the json= section.\n",
    "    request = requests.post('https://api.monday.com/v2', json={'query': query}, headers=headers)\n",
    "    if request.status_code == 200:\n",
    "        return request.json()\n",
    "    else:\n",
    "        raise Exception(\"Query failed to run by returning code of {}. {}\".format(request.status_code, query))\n",
    "\n",
    "headers = {\"Authorization\":MONDAY_KEY}"
   ]
  },
  {
   "cell_type": "markdown",
   "metadata": {},
   "source": [
    "# Who owns most boards?"
   ]
  },
  {
   "cell_type": "code",
   "execution_count": 3,
   "metadata": {},
   "outputs": [
    {
     "name": "stdout",
     "output_type": "stream",
     "text": [
      "{'boards': [{'id': '117607607', 'name': 'Software update requests', 'owner': {'name': 'Alper Aydemir'}}, {'id': '118277986', 'name': 'Brand and creative backlog', 'owner': {'name': 'julia.krantz@volumental.com'}}, {'id': '119285058', 'name': 'Alper', 'owner': {'name': 'Alper Aydemir'}}, {'id': '119522493', 'name': 'Old Scanner sales', 'owner': {'name': 'henrik.bronnegard@volumental.com'}}, {'id': '119941922', 'name': 'Product - Retail Scanner', 'owner': {'name': 'Alper Aydemir'}}, {'id': '119941959', 'name': 'Product - Vaka', 'owner': {'name': 'Alper Aydemir'}}, {'id': '119942028', 'name': 'Product - Omni', 'owner': {'name': 'Alper Aydemir'}}, {'id': '120056215', 'name': 'External product deadlines', 'owner': {'name': 'Alper Aydemir'}}, {'id': '120793385', 'name': 'Major ideation projects', 'owner': {'name': 'Alper Aydemir'}}, {'id': '120820357', 'name': 'Infrastructure / DevOps', 'owner': {'name': 'Alper Aydemir'}}, {'id': '121222983', 'name': 'Operations', 'owner': {'name': 'Jon Duvnjak'}}, {'id': '121665338', 'name': 'Lead - XXL/Brunngård', 'owner': {'name': 'Alper Aydemir'}}, {'id': '122061023', 'name': 'Samuel', 'owner': {'name': 'Samuel Carlsson'}}, {'id': '122429601', 'name': 'Jon', 'owner': {'name': 'Jon Duvnjak'}}, {'id': '122432432', 'name': 'Legal/commercial', 'owner': {'name': 'Jon Duvnjak'}}, {'id': '122452892', 'name': 'Metrics / Data Science', 'owner': {'name': 'Josef Grahn'}}, {'id': '122861494', 'name': 'Internal scanner requests', 'owner': {'name': 'Jon Duvnjak'}}, {'id': '122864226', 'name': 'Pilot requests', 'owner': {'name': 'Jon Duvnjak'}}, {'id': '123223812', 'name': 'Roadmap Q3 2018', 'owner': {'name': 'Ingrid Bonde Åkerlind'}}, {'id': '123307088', 'name': 'Board of Directors', 'owner': {'name': 'Alper Aydemir'}}, {'id': '123669092', 'name': 'Sofie', 'owner': {'name': 'Sofie Berglykke Aagaard'}}, {'id': '123698934', 'name': 'Footwear Research', 'owner': {'name': 'ales.jurca@volumental.com'}}, {'id': '123931901', 'name': 'Mik4el', 'owner': {'name': 'Mikael Andersson'}}, {'id': '124173144', 'name': 'Strategy Topics', 'owner': {'name': 'moritz.schiebold@volumental.com'}}, {'id': '124179300', 'name': 'Council', 'owner': {'name': 'moritz.schiebold@volumental.com'}}, {'id': '124705830', 'name': 'Volumental Office', 'owner': {'name': 'julia.krantz@volumental.com'}}, {'id': '126202176', 'name': \"Customer - The Athlete's Foot\", 'owner': {'name': 'Jon Duvnjak'}}, {'id': '126377360', 'name': 'Copy & Design', 'owner': {'name': 'Ingrid Bonde Åkerlind'}}, {'id': '126767799', 'name': 'P&C - Ongoing Deliveries & Backlog', 'owner': {'name': 'Mariana Puhlmann'}}, {'id': '127112174', 'name': 'Returns investigation', 'owner': {'name': 'Alper Aydemir'}}, {'id': '127505567', 'name': 'Lead - Sales Flow', 'owner': {'name': 'Eric Abrahamsson'}}, {'id': '127583684', 'name': 'ML reading group', 'owner': {'name': 'Josef Grahn'}}, {'id': '127966600', 'name': 'Lead - Deichmann/One FID', 'owner': {'name': 'Dan Engelke'}}, {'id': '128377298', 'name': 'Weekly Planning - Karthik', 'owner': {'name': 'Karthik Parupalli'}}, {'id': '129056675', 'name': 'Lead - Myer', 'owner': {'name': 'Eric Abrahamsson'}}, {'id': '129096693', 'name': 'Sales Process', 'owner': {'name': 'Alper Aydemir'}}, {'id': '129484698', 'name': 'Customer - New Balance', 'owner': {'name': 'Mark Hughes'}}, {'id': '129485964', 'name': 'Customer - Wintersteiger', 'owner': {'name': 'Mark Hughes'}}, {'id': '129486432', 'name': 'Customer - Fleet Feet', 'owner': {'name': 'Mark Hughes'}}, {'id': '129488407', 'name': 'Customer - Bauer', 'owner': {'name': 'Mark Hughes'}}, {'id': '129905150', 'name': \"Josef's high-level roadmap\", 'owner': {'name': 'Josef Grahn'}}, {'id': '130407831', 'name': 'US Customer Trip - October/November 2018', 'owner': {'name': 'Mark Hughes'}}, {'id': '131022600', 'name': 'P&C - Onboarding Checklist', 'owner': {'name': 'Mariana Puhlmann'}}, {'id': '131889071', 'name': 'Lead - Treksta', 'owner': {'name': 'Eric Abrahamsson'}}, {'id': '132765382', 'name': 'Lead - Bata', 'owner': {'name': 'Eric Abrahamsson'}}, {'id': '134987937', 'name': 'Spare part shipments', 'owner': {'name': 'henrik.bronnegard@volumental.com'}}, {'id': '135319508', 'name': 'Eric', 'owner': {'name': 'Eric Abrahamsson'}}, {'id': '135939805', 'name': 'Lead - Shoe Clinic', 'owner': {'name': 'Boa Jung'}}, {'id': '137322140', 'name': 'Product Team Backlog', 'owner': {'name': 'Alper Aydemir'}}, {'id': '139135364', 'name': 'Lead - The Atomic Group', 'owner': {'name': 'Boa Jung'}}, {'id': '139144351', 'name': 'Lead - Lecaf', 'owner': {'name': 'Boa Jung'}}, {'id': '142847323', 'name': 'Software Support Issues', 'owner': {'name': 'Mark Hughes'}}, {'id': '144081981', 'name': 'Employee Compliance', 'owner': {'name': 'Aina Rosselló'}}, {'id': '145390622', 'name': 'Lead - Bounce Wear', 'owner': {'name': 'Eric Abrahamsson'}}, {'id': '145477601', 'name': 'Event Project Management', 'owner': {'name': 'Rebecca Nelson'}}, {'id': '145865843', 'name': 'Lead - Primer Group', 'owner': {'name': 'Eric Abrahamsson'}}, {'id': '145952998', 'name': \"Small Scanner Orders (old, don't use)\", 'owner': {'name': 'Mark Hughes'}}, {'id': '146370111', 'name': 'Customer - Road Runner', 'owner': {'name': 'Mark Hughes'}}, {'id': '149769050', 'name': 'Scanner Monitoring', 'owner': {'name': 'lukas.tallund@volumental.com'}}, {'id': '151588629', 'name': 'Rebecca Planning', 'owner': {'name': 'Rebecca Nelson'}}, {'id': '152360335', 'name': 'Weekly Planning - Liz', 'owner': {'name': 'Ingrid Bonde Åkerlind'}}, {'id': '153324339', 'name': 'Bauer SOW 4 Estimates (to be billed in April 2019)', 'owner': {'name': 'Alper Aydemir'}}, {'id': '153411326', 'name': 'Key Account Report Requests', 'owner': {'name': 'Mark Hughes'}}, {'id': '153784928', 'name': 'Alibaba Planning', 'owner': {'name': 'Eric Abrahamsson'}}, {'id': '153865773', 'name': 'Integration overview', 'owner': {'name': 'Alper Aydemir'}}, {'id': '158324465', 'name': 'Ridhwana - South Africa', 'owner': {'name': 'ales.jurca@volumental.com'}}, {'id': '159003130', 'name': 'Superfeet/FitStation', 'owner': {'name': 'Mark Hughes'}}, {'id': '164849055', 'name': 'Customer reports', 'owner': {'name': 'Eveline Visee'}}, {'id': '166103909', 'name': '(Dormant) Corinna Planning', 'owner': {'name': 'Corinna Karg'}}, {'id': '166119482', 'name': 'Tech sales at Volumental - Q4 onboarding and goals', 'owner': {'name': 'Akanksha Srivastava'}}, {'id': '174334687', 'name': 'Volumental KPIs', 'owner': {'name': 'Ingrid Bonde Åkerlind'}}, {'id': '176032458', 'name': 'Product roadmap items 2019', 'owner': {'name': 'Alper Aydemir'}}, {'id': '184439612', 'name': 'Roadmap Q4 2018', 'owner': {'name': 'Ingrid Bonde Åkerlind'}}, {'id': '184969831', 'name': 'Developer pain points', 'owner': {'name': 'Rasmus'}}, {'id': '188053172', 'name': 'Customer replacement scanners', 'owner': {'name': 'henrik.bronnegard@volumental.com'}}, {'id': '188683257', 'name': 'Monthly closing  - Courtney Tasks', 'owner': {'name': 'Aina Rosselló'}}, {'id': '189301132', 'name': 'Leasing Customers', 'owner': {'name': 'Aina Rosselló'}}, {'id': '189364022', 'name': 'Advisory Board', 'owner': {'name': 'Ingrid Bonde Åkerlind'}}, {'id': '190945520', 'name': 'Requests for Sales Team', 'owner': {'name': 'Akanksha Srivastava'}}, {'id': '190984858', 'name': 'P&C - Offboarding Checklist', 'owner': {'name': 'Mariana Puhlmann'}}, {'id': '191720257', 'name': 'New orders', 'owner': {'name': 'Jon Duvnjak'}}, {'id': '192902258', 'name': 'Project - Business Models, Pricing & Commercials', 'owner': {'name': 'Liz Connor'}}, {'id': '193007206', 'name': 'Partnerships', 'owner': {'name': 'Ingrid Bonde Åkerlind'}}, {'id': '194165221', 'name': 'Project PILOTS', 'owner': {'name': 'Anna Malkan'}}, {'id': '194641088', 'name': 'Akanksha', 'owner': {'name': 'Alper Aydemir'}}, {'id': '195266318', 'name': 'P&C - Growth planning', 'owner': {'name': 'leila.ljungberg@volumental.com'}}, {'id': '195389765', 'name': 'Aina bi-weekly projects', 'owner': {'name': 'Aina Rosselló'}}, {'id': '195913920', 'name': 'Production Batches', 'owner': {'name': 'lukas.tallund@volumental.com'}}, {'id': '195914733', 'name': \"Batch ToDo's\", 'owner': {'name': 'lukas.tallund@volumental.com'}}, {'id': '195921723', 'name': 'Lukas', 'owner': {'name': 'lukas.tallund@volumental.com'}}, {'id': '195991061', 'name': 'Overdue invoices', 'owner': {'name': 'Courtney Thomas'}}, {'id': '197996156', 'name': 'Customer Workshop', 'owner': {'name': 'Mark Hughes'}}, {'id': '198879404', 'name': 'Large Scanner Orders', 'owner': {'name': 'lukas.tallund@volumental.com'}}, {'id': '198881699', 'name': 'Fit-engine algorithm backlog', 'owner': {'name': 'axel demborg'}}, {'id': '199626172', 'name': 'Small Scanner Orders', 'owner': {'name': 'lukas.tallund@volumental.com'}}, {'id': '199771959', 'name': '2019 Vacations Requests', 'owner': {'name': 'Alper Aydemir'}}, {'id': '201213336', 'name': 'Lead - APL', 'owner': {'name': 'Eric Abrahamsson'}}, {'id': '201816655', 'name': 'P&C - Employee Onboarding', 'owner': {'name': 'Mariana Puhlmann'}}, {'id': '209540469', 'name': 'Anna M', 'owner': {'name': 'Anna Malkan'}}, {'id': '217144895', 'name': 'Customer - Stride Rite', 'owner': {'name': 'Eric Abrahamsson'}}, {'id': '218904873', 'name': 'Feature List', 'owner': {'name': 'Akanksha Srivastava'}}, {'id': '221487622', 'name': 'Customer Test Scanners', 'owner': {'name': 'Mark Hughes'}}, {'id': '228146178', 'name': 'Boa', 'owner': {'name': 'Boa Jung'}}, {'id': '232066603', 'name': 'Infrastructure Eng. - Recruitment Roadmap', 'owner': {'name': 'Mariana Puhlmann'}}, {'id': '237331504', 'name': 'Prod. Mktg Manager - Recruitment Roadmap', 'owner': {'name': 'Mariana Puhlmann'}}, {'id': '237992610', 'name': 'Development - Website', 'owner': {'name': 'Alper Aydemir'}}, {'id': '238266900', 'name': 'Internal Training', 'owner': {'name': 'Rasmus'}}, {'id': '248104719', 'name': 'Template - Recruitment Roadmap', 'owner': {'name': 'leila.ljungberg@volumental.com'}}, {'id': '250773377', 'name': 'Project - Learning the CRM', 'owner': {'name': 'Ingrid Bonde Åkerlind'}}, {'id': '251328964', 'name': 'Reports to clients', 'owner': {'name': 'Alper Aydemir'}}, {'id': '251607524', 'name': 'Volumental owned scanners', 'owner': {'name': 'Alper Aydemir'}}, {'id': '252412343', 'name': 'NB $15m Sprint', 'owner': {'name': 'Ingrid Bonde Åkerlind'}}, {'id': '254216534', 'name': 'Product - Omni: Mobile', 'owner': {'name': 'Alper Aydemir'}}, {'id': '256593115', 'name': 'Office & Ops Coord. - Recruitment Roadmap', 'owner': {'name': 'leila.ljungberg@volumental.com'}}, {'id': '256593467', 'name': 'Swedish production setup', 'owner': {'name': 'Jon Duvnjak'}}, {'id': '259135548', 'name': 'Debugging the sales funnel', 'owner': {'name': 'moritz.schiebold@volumental.com'}}, {'id': '259430966', 'name': 'Roadmap May - July 2019', 'owner': {'name': 'Ingrid Bonde Åkerlind'}}, {'id': '259460453', 'name': 'iOS Dev. - Recruitment Roadmap', 'owner': {'name': 'Mariana Puhlmann'}}, {'id': '261415882', 'name': 'ROI', 'owner': {'name': 'Ingrid Bonde Åkerlind'}}, {'id': '265579951', 'name': 'Zoho CRM', 'owner': {'name': 'Eric Abrahamsson'}}, {'id': '268208862', 'name': 'External Communication Calendar', 'owner': {'name': 'Ingrid Bonde Åkerlind'}}, {'id': '277560949', 'name': 'Lead - Red Wing Shoes - Phase 2', 'owner': {'name': 'Alper Aydemir'}}, {'id': '281913705', 'name': 'Analytics requirements', 'owner': {'name': 'Mikael Andersson'}}, {'id': '282863280', 'name': 'Analytics - Feature matrix', 'owner': {'name': 'Alper Aydemir'}}, {'id': '284941585', 'name': 'Brand and creative Aug - Oct (q2)', 'owner': {'name': 'julia.krantz@volumental.com'}}, {'id': '285055407', 'name': 'Website backlog', 'owner': {'name': 'julia.krantz@volumental.com'}}, {'id': '286460821', 'name': 'Business Models, Pricing & Commercials', 'owner': {'name': 'Ingrid Bonde Åkerlind'}}, {'id': '288020176', 'name': 'Product - Retail Scanner - Mothball', 'owner': {'name': 'lukas.tallund@volumental.com'}}, {'id': '290189574', 'name': 'August-October 2019 Roadmap', 'owner': {'name': 'Ingrid Bonde Åkerlind'}}, {'id': '290438968', 'name': 'Customer Success', 'owner': {'name': 'Sara Andersson'}}, {'id': '292644428', 'name': 'Business Developer - Recruitment Roadmap', 'owner': {'name': 'Mariana Puhlmann'}}, {'id': '302184295', 'name': 'Alice', 'owner': {'name': 'Alice Wristel'}}, {'id': '302791251', 'name': 'Scanner Needs - Customers & Leads', 'owner': {'name': 'Eric Abrahamsson'}}, {'id': '302831019', 'name': 'Customer On boarding Journey', 'owner': {'name': 'Akanksha Srivastava'}}, {'id': '304110958', 'name': 'Scanners to block (no paid license)', 'owner': {'name': 'Jon Duvnjak'}}, {'id': '304907059', 'name': 'Omni - Mobile: Milestone plan', 'owner': {'name': 'Mikael Andersson'}}, {'id': '307566293', 'name': 'Mark', 'owner': {'name': 'Mark Hughes'}}, {'id': '310589041', 'name': 'Kristina', 'owner': {'name': 'Kristina Jurca'}}, {'id': '312018226', 'name': 'Marketing Sprints', 'owner': {'name': 'Ingrid Bonde Åkerlind'}}, {'id': '320717717', 'name': '4 Paying Tgd Mkg Customers April 2020 Goal Board', 'owner': {'name': 'Ingrid Bonde Åkerlind'}}, {'id': '320748494', 'name': 'Open questions KAM / Lukas', 'owner': {'name': 'Yohan Braoudakis'}}, {'id': '320870710', 'name': 'User Testing internship - Recruitment Roadmap', 'owner': {'name': 'Mariana Puhlmann'}}, {'id': '320873285', 'name': 'Swedish scanners assemblers - Recruitment Roadmap', 'owner': {'name': 'Mariana Puhlmann'}}, {'id': '325494501', 'name': 'Customer Days', 'owner': {'name': 'Alice Wristel'}}]}\n"
     ]
    }
   ],
   "source": [
    "query = \"\"\"\n",
    "{\n",
    "  boards(limit:1000) {\n",
    "      id \n",
    "      name\n",
    "    \towner {\n",
    "        name\n",
    "      }\n",
    "    }\n",
    "}\n",
    "\"\"\"        \n",
    "result = run_query(query)\n",
    "print(result[\"data\"])"
   ]
  },
  {
   "cell_type": "code",
   "execution_count": 4,
   "metadata": {},
   "outputs": [],
   "source": [
    "import pandas as pd\n",
    "df = pd.DataFrame.from_dict(result[\"data\"][\"boards\"])"
   ]
  },
  {
   "cell_type": "code",
   "execution_count": 5,
   "metadata": {},
   "outputs": [
    {
     "data": {
      "text/plain": [
       "id       object\n",
       "name     object\n",
       "owner    object\n",
       "dtype: object"
      ]
     },
     "execution_count": 5,
     "metadata": {},
     "output_type": "execute_result"
    }
   ],
   "source": [
    "df.dtypes"
   ]
  },
  {
   "cell_type": "code",
   "execution_count": 6,
   "metadata": {},
   "outputs": [
    {
     "data": {
      "text/html": [
       "<div>\n",
       "<style scoped>\n",
       "    .dataframe tbody tr th:only-of-type {\n",
       "        vertical-align: middle;\n",
       "    }\n",
       "\n",
       "    .dataframe tbody tr th {\n",
       "        vertical-align: top;\n",
       "    }\n",
       "\n",
       "    .dataframe thead th {\n",
       "        text-align: right;\n",
       "    }\n",
       "</style>\n",
       "<table border=\"1\" class=\"dataframe\">\n",
       "  <thead>\n",
       "    <tr style=\"text-align: right;\">\n",
       "      <th></th>\n",
       "      <th>id</th>\n",
       "      <th>name</th>\n",
       "      <th>owner</th>\n",
       "    </tr>\n",
       "  </thead>\n",
       "  <tbody>\n",
       "    <tr>\n",
       "      <td>0</td>\n",
       "      <td>117607607</td>\n",
       "      <td>Software update requests</td>\n",
       "      <td>{'name': 'Alper Aydemir'}</td>\n",
       "    </tr>\n",
       "    <tr>\n",
       "      <td>1</td>\n",
       "      <td>118277986</td>\n",
       "      <td>Brand and creative backlog</td>\n",
       "      <td>{'name': 'julia.krantz@volumental.com'}</td>\n",
       "    </tr>\n",
       "    <tr>\n",
       "      <td>2</td>\n",
       "      <td>119285058</td>\n",
       "      <td>Alper</td>\n",
       "      <td>{'name': 'Alper Aydemir'}</td>\n",
       "    </tr>\n",
       "    <tr>\n",
       "      <td>3</td>\n",
       "      <td>119522493</td>\n",
       "      <td>Old Scanner sales</td>\n",
       "      <td>{'name': 'henrik.bronnegard@volumental.com'}</td>\n",
       "    </tr>\n",
       "    <tr>\n",
       "      <td>4</td>\n",
       "      <td>119941922</td>\n",
       "      <td>Product - Retail Scanner</td>\n",
       "      <td>{'name': 'Alper Aydemir'}</td>\n",
       "    </tr>\n",
       "    <tr>\n",
       "      <td>...</td>\n",
       "      <td>...</td>\n",
       "      <td>...</td>\n",
       "      <td>...</td>\n",
       "    </tr>\n",
       "    <tr>\n",
       "      <td>139</td>\n",
       "      <td>320717717</td>\n",
       "      <td>4 Paying Tgd Mkg Customers April 2020 Goal Board</td>\n",
       "      <td>{'name': 'Ingrid Bonde Åkerlind'}</td>\n",
       "    </tr>\n",
       "    <tr>\n",
       "      <td>140</td>\n",
       "      <td>320748494</td>\n",
       "      <td>Open questions KAM / Lukas</td>\n",
       "      <td>{'name': 'Yohan Braoudakis'}</td>\n",
       "    </tr>\n",
       "    <tr>\n",
       "      <td>141</td>\n",
       "      <td>320870710</td>\n",
       "      <td>User Testing internship - Recruitment Roadmap</td>\n",
       "      <td>{'name': 'Mariana Puhlmann'}</td>\n",
       "    </tr>\n",
       "    <tr>\n",
       "      <td>142</td>\n",
       "      <td>320873285</td>\n",
       "      <td>Swedish scanners assemblers - Recruitment Roadmap</td>\n",
       "      <td>{'name': 'Mariana Puhlmann'}</td>\n",
       "    </tr>\n",
       "    <tr>\n",
       "      <td>143</td>\n",
       "      <td>325494501</td>\n",
       "      <td>Customer Days</td>\n",
       "      <td>{'name': 'Alice Wristel'}</td>\n",
       "    </tr>\n",
       "  </tbody>\n",
       "</table>\n",
       "<p>144 rows × 3 columns</p>\n",
       "</div>"
      ],
      "text/plain": [
       "            id                                               name  \\\n",
       "0    117607607                           Software update requests   \n",
       "1    118277986                         Brand and creative backlog   \n",
       "2    119285058                                              Alper   \n",
       "3    119522493                                  Old Scanner sales   \n",
       "4    119941922                           Product - Retail Scanner   \n",
       "..         ...                                                ...   \n",
       "139  320717717   4 Paying Tgd Mkg Customers April 2020 Goal Board   \n",
       "140  320748494                         Open questions KAM / Lukas   \n",
       "141  320870710      User Testing internship - Recruitment Roadmap   \n",
       "142  320873285  Swedish scanners assemblers - Recruitment Roadmap   \n",
       "143  325494501                                      Customer Days   \n",
       "\n",
       "                                            owner  \n",
       "0                       {'name': 'Alper Aydemir'}  \n",
       "1         {'name': 'julia.krantz@volumental.com'}  \n",
       "2                       {'name': 'Alper Aydemir'}  \n",
       "3    {'name': 'henrik.bronnegard@volumental.com'}  \n",
       "4                       {'name': 'Alper Aydemir'}  \n",
       "..                                            ...  \n",
       "139             {'name': 'Ingrid Bonde Åkerlind'}  \n",
       "140                  {'name': 'Yohan Braoudakis'}  \n",
       "141                  {'name': 'Mariana Puhlmann'}  \n",
       "142                  {'name': 'Mariana Puhlmann'}  \n",
       "143                     {'name': 'Alice Wristel'}  \n",
       "\n",
       "[144 rows x 3 columns]"
      ]
     },
     "execution_count": 6,
     "metadata": {},
     "output_type": "execute_result"
    }
   ],
   "source": [
    "df"
   ]
  },
  {
   "cell_type": "code",
   "execution_count": 7,
   "metadata": {},
   "outputs": [
    {
     "data": {
      "text/plain": [
       "0                         {'name': 'Alper Aydemir'}\n",
       "1           {'name': 'julia.krantz@volumental.com'}\n",
       "2                         {'name': 'Alper Aydemir'}\n",
       "3      {'name': 'henrik.bronnegard@volumental.com'}\n",
       "4                         {'name': 'Alper Aydemir'}\n",
       "                           ...                     \n",
       "139               {'name': 'Ingrid Bonde Åkerlind'}\n",
       "140                    {'name': 'Yohan Braoudakis'}\n",
       "141                    {'name': 'Mariana Puhlmann'}\n",
       "142                    {'name': 'Mariana Puhlmann'}\n",
       "143                       {'name': 'Alice Wristel'}\n",
       "Name: owner, Length: 144, dtype: object"
      ]
     },
     "execution_count": 7,
     "metadata": {},
     "output_type": "execute_result"
    }
   ],
   "source": [
    "df.owner"
   ]
  },
  {
   "cell_type": "code",
   "execution_count": 8,
   "metadata": {},
   "outputs": [],
   "source": [
    "from pandas.io.json import json_normalize\n",
    "df.owner = json_normalize(df[\"owner\"], meta=[\"name\"])"
   ]
  },
  {
   "cell_type": "code",
   "execution_count": 9,
   "metadata": {},
   "outputs": [
    {
     "data": {
      "text/html": [
       "<div>\n",
       "<style scoped>\n",
       "    .dataframe tbody tr th:only-of-type {\n",
       "        vertical-align: middle;\n",
       "    }\n",
       "\n",
       "    .dataframe tbody tr th {\n",
       "        vertical-align: top;\n",
       "    }\n",
       "\n",
       "    .dataframe thead th {\n",
       "        text-align: right;\n",
       "    }\n",
       "</style>\n",
       "<table border=\"1\" class=\"dataframe\">\n",
       "  <thead>\n",
       "    <tr style=\"text-align: right;\">\n",
       "      <th></th>\n",
       "      <th>id</th>\n",
       "      <th>name</th>\n",
       "      <th>owner</th>\n",
       "    </tr>\n",
       "  </thead>\n",
       "  <tbody>\n",
       "    <tr>\n",
       "      <td>0</td>\n",
       "      <td>117607607</td>\n",
       "      <td>Software update requests</td>\n",
       "      <td>Alper Aydemir</td>\n",
       "    </tr>\n",
       "    <tr>\n",
       "      <td>1</td>\n",
       "      <td>118277986</td>\n",
       "      <td>Brand and creative backlog</td>\n",
       "      <td>julia.krantz@volumental.com</td>\n",
       "    </tr>\n",
       "    <tr>\n",
       "      <td>2</td>\n",
       "      <td>119285058</td>\n",
       "      <td>Alper</td>\n",
       "      <td>Alper Aydemir</td>\n",
       "    </tr>\n",
       "    <tr>\n",
       "      <td>3</td>\n",
       "      <td>119522493</td>\n",
       "      <td>Old Scanner sales</td>\n",
       "      <td>henrik.bronnegard@volumental.com</td>\n",
       "    </tr>\n",
       "    <tr>\n",
       "      <td>4</td>\n",
       "      <td>119941922</td>\n",
       "      <td>Product - Retail Scanner</td>\n",
       "      <td>Alper Aydemir</td>\n",
       "    </tr>\n",
       "    <tr>\n",
       "      <td>...</td>\n",
       "      <td>...</td>\n",
       "      <td>...</td>\n",
       "      <td>...</td>\n",
       "    </tr>\n",
       "    <tr>\n",
       "      <td>139</td>\n",
       "      <td>320717717</td>\n",
       "      <td>4 Paying Tgd Mkg Customers April 2020 Goal Board</td>\n",
       "      <td>Ingrid Bonde Åkerlind</td>\n",
       "    </tr>\n",
       "    <tr>\n",
       "      <td>140</td>\n",
       "      <td>320748494</td>\n",
       "      <td>Open questions KAM / Lukas</td>\n",
       "      <td>Yohan Braoudakis</td>\n",
       "    </tr>\n",
       "    <tr>\n",
       "      <td>141</td>\n",
       "      <td>320870710</td>\n",
       "      <td>User Testing internship - Recruitment Roadmap</td>\n",
       "      <td>Mariana Puhlmann</td>\n",
       "    </tr>\n",
       "    <tr>\n",
       "      <td>142</td>\n",
       "      <td>320873285</td>\n",
       "      <td>Swedish scanners assemblers - Recruitment Roadmap</td>\n",
       "      <td>Mariana Puhlmann</td>\n",
       "    </tr>\n",
       "    <tr>\n",
       "      <td>143</td>\n",
       "      <td>325494501</td>\n",
       "      <td>Customer Days</td>\n",
       "      <td>Alice Wristel</td>\n",
       "    </tr>\n",
       "  </tbody>\n",
       "</table>\n",
       "<p>144 rows × 3 columns</p>\n",
       "</div>"
      ],
      "text/plain": [
       "            id                                               name  \\\n",
       "0    117607607                           Software update requests   \n",
       "1    118277986                         Brand and creative backlog   \n",
       "2    119285058                                              Alper   \n",
       "3    119522493                                  Old Scanner sales   \n",
       "4    119941922                           Product - Retail Scanner   \n",
       "..         ...                                                ...   \n",
       "139  320717717   4 Paying Tgd Mkg Customers April 2020 Goal Board   \n",
       "140  320748494                         Open questions KAM / Lukas   \n",
       "141  320870710      User Testing internship - Recruitment Roadmap   \n",
       "142  320873285  Swedish scanners assemblers - Recruitment Roadmap   \n",
       "143  325494501                                      Customer Days   \n",
       "\n",
       "                                owner  \n",
       "0                       Alper Aydemir  \n",
       "1         julia.krantz@volumental.com  \n",
       "2                       Alper Aydemir  \n",
       "3    henrik.bronnegard@volumental.com  \n",
       "4                       Alper Aydemir  \n",
       "..                                ...  \n",
       "139             Ingrid Bonde Åkerlind  \n",
       "140                  Yohan Braoudakis  \n",
       "141                  Mariana Puhlmann  \n",
       "142                  Mariana Puhlmann  \n",
       "143                     Alice Wristel  \n",
       "\n",
       "[144 rows x 3 columns]"
      ]
     },
     "execution_count": 9,
     "metadata": {},
     "output_type": "execute_result"
    }
   ],
   "source": [
    "df"
   ]
  },
  {
   "cell_type": "code",
   "execution_count": 10,
   "metadata": {},
   "outputs": [],
   "source": [
    "df[\"count\"] = 1"
   ]
  },
  {
   "cell_type": "code",
   "execution_count": 11,
   "metadata": {},
   "outputs": [],
   "source": [
    "toplist = df.groupby(['owner']).count().sort_values(\"count\", ascending=True)['count']"
   ]
  },
  {
   "cell_type": "code",
   "execution_count": 13,
   "metadata": {
    "scrolled": true
   },
   "outputs": [
    {
     "data": {
      "text/plain": [
       "Text(0.5, 0, 'Boards owned')"
      ]
     },
     "execution_count": 13,
     "metadata": {},
     "output_type": "execute_result"
    },
    {
     "data": {
      "image/png": "[encoded data removed]",
      "text/plain": [
       "<Figure size 720x720 with 1 Axes>"
      ]
     },
     "metadata": {
      "needs_background": "light"
     },
     "output_type": "display_data"
    }
   ],
   "source": [
    "from matplotlib import pyplot as plt\n",
    "toplist_plot = toplist.plot(kind='barh', figsize=(10, 10), width=0.7)\n",
    "toplist_plot.set_ylabel(\"Owner\")\n",
    "toplist_plot.set_xlabel(\"Boards owned\")"
   ]
  },
  {
   "cell_type": "code",
   "execution_count": null,
   "metadata": {},
   "outputs": [],
   "source": []
  }
 ],
 "metadata": {
  "kernelspec": {
   "display_name": "Python 3",
   "language": "python",
   "name": "python3"
  },
  "language_info": {
   "codemirror_mode": {
    "name": "ipython",
    "version": 3
   },
   "file_extension": ".py",
   "mimetype": "text/x-python",
   "name": "python",
   "nbconvert_exporter": "python",
   "pygments_lexer": "ipython3",
   "version": "3.7.4"
  }
 },
 "nbformat": 4,
 "nbformat_minor": 2
}
